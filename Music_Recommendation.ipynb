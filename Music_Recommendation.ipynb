{
  "nbformat": 4,
  "nbformat_minor": 0,
  "metadata": {
    "colab": {
      "provenance": []
    },
    "kernelspec": {
      "name": "python3",
      "display_name": "Python 3"
    },
    "language_info": {
      "name": "python"
    }
  },
  "cells": [
    {
      "cell_type": "markdown",
      "source": [
        "# **Introduction:**\n",
        "\n",
        "**Research Question**\n",
        "\n",
        "This paper endeavors to answer the following question: \"How might we create a personalized music recommendation system for users based on their listening history, without being invasive or relying on personal data?\"\n",
        "\n",
        "\n",
        "\n",
        "\n",
        "**Background / Relevance for Study**\n",
        "\n",
        " In today's digital age, music streaming services such as Spotify are becoming increasingly popular. However, users often struggle to find new music that suits their tastes with such a vast selection of music. Personalized music recommendation systems have become a popular solution to this problem. Given users' listening history, these systems can suggest new music that they may enjoy. Unfortunately, many existing systems rely heavily on users' personal data (eg: age, location, etc.), which raises concerns about privacy. Our proposed model aims to create a personalized music recommendation system that relies on users' listening history without being invasive. Presently, Spotify recommends content based both on the actual content of songs that a user likes, and also the relationship that one track has with other tracks, determined by a broader set of users. \n",
        "\n",
        "Our proposed response to our main query is to to create a \n",
        "novel music recommendation algorithm that differs from that of Spotify. Spotify present incorporates multiple recommendation methods, chiefly:\n",
        "\n",
        "\n",
        "1.   Content-Based Recommendation\n",
        "2.   Collaborative-Based Recommendation\n",
        "3.Popularity-based recommendation\n",
        "\n",
        "It is our objective to create a new method which does not incorporate collaborative-based recommendation. The goal of this change is to enhance the privacy of users such that their listening history is not communicated with other users, directly or indirectly.\n",
        "\n",
        "As an example illustrating this use case, if a user (Bob) has one friend on spotify (Rob), Bob might be aware that Rob is an avid fan of Norwegian death metal if he receives that as a recommendation. Rob may prefer to keep that private, and would feasibly choose to opt into our algorithm which eschews collaborate-based recommendation in favor of his privacy.\n",
        "\n",
        "\n",
        "**Varaibles, Parameters, and Assumptions**\n",
        "\n",
        "Our variables will include users' listening history, the genres and artists of the music they listen to, and their interactions with the music streaming service (such as liking, disliking, or skipping songs). We will assume that users' listening history reflects their music preferences to some extent. We will also assume that the music streaming service has access to a large enough database of music to make relevant recommendations.\n",
        "\n",
        "\n",
        "**Limitations of Data**\n",
        "\n",
        "We source our data from KaggleSet data (https://www.kaggle.com/datasets/mrmorj/dataset-of-songs-in-spotify). While KaggleSet provides a large quantity of data, it does not contain every single song on Spotify; thus, not every song on a user's playlist may be represented in the data, renderinig the recommendation algorithm less accurate given its reduced information. In particular, our data source only holds information on: **[Trap, Techno, Techhouse, Trance, Psytrance, Dark Trap, DnB (drums and bass), Hardstyle, Underground Rap, Trap Metal, Emo, Rap, RnB, Pop, Hiphop].** \n",
        "\n",
        "Each song has a set of accomanying labels with further data, such as danceability, energy, loudness, musical key, and level of instrumentality (to name a few).\n",
        "\n",
        "Our project and technical analysis consists of 5 major components, enumerated below:\n",
        "\n",
        "1. Data Collection and Cleaning: \n",
        "\n"
      ],
      "metadata": {
        "id": "cV6AsvoRfPhh"
      }
    },
    {
      "cell_type": "markdown",
      "source": [],
      "metadata": {
        "id": "2CXx7-vXfq_h"
      }
    }
  ]
}